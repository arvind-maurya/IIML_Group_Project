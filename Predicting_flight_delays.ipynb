{
  "nbformat": 4,
  "nbformat_minor": 0,
  "metadata": {
    "colab": {
      "provenance": [],
      "authorship_tag": "ABX9TyM4LmUHk0M+IgM3aG00NhhF",
      "include_colab_link": true
    },
    "kernelspec": {
      "name": "python3",
      "display_name": "Python 3"
    },
    "language_info": {
      "name": "python"
    }
  },
  "cells": [
    {
      "cell_type": "markdown",
      "metadata": {
        "id": "view-in-github",
        "colab_type": "text"
      },
      "source": [
        "<a href=\"https://colab.research.google.com/github/arvind-maurya/IIML_Group_Project/blob/main/Predicting_flight_delays.ipynb\" target=\"_parent\"><img src=\"https://colab.research.google.com/assets/colab-badge.svg\" alt=\"Open In Colab\"/></a>"
      ]
    },
    {
      "cell_type": "markdown",
      "source": [
        "Project Name:\n",
        "\n",
        "Project Team Members:\n"
      ],
      "metadata": {
        "id": "itc_Sb3ft4MW"
      }
    },
    {
      "cell_type": "markdown",
      "source": [
        "The goal of this project is to develop a model aimed at predicting flight delays at take-off. We will try and test various model to arrive the best possible results."
      ],
      "metadata": {
        "id": "XmeOHwmItWJ6"
      }
    },
    {
      "cell_type": "code",
      "source": [],
      "metadata": {
        "id": "SQHy3PTCt0qx"
      },
      "execution_count": null,
      "outputs": []
    }
  ]
}