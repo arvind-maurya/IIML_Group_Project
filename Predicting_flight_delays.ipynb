{
  "nbformat": 4,
  "nbformat_minor": 0,
  "metadata": {
    "colab": {
      "provenance": [],
      "authorship_tag": "ABX9TyPbwuxe0+OUmbnQ1BhNoyJO",
      "include_colab_link": true
    },
    "kernelspec": {
      "name": "python3",
      "display_name": "Python 3"
    },
    "language_info": {
      "name": "python"
    }
  },
  "cells": [
    {
      "cell_type": "markdown",
      "metadata": {
        "id": "view-in-github",
        "colab_type": "text"
      },
      "source": [
        "<a href=\"https://colab.research.google.com/github/arvind-maurya/IIML_Group_Project/blob/main/Predicting_flight_delays.ipynb\" target=\"_parent\"><img src=\"https://colab.research.google.com/assets/colab-badge.svg\" alt=\"Open In Colab\"/></a>"
      ]
    },
    {
      "cell_type": "markdown",
      "source": [
        "Project Name:\n",
        "\n",
        "Project Team Members:\n"
      ],
      "metadata": {
        "id": "itc_Sb3ft4MW"
      }
    },
    {
      "cell_type": "markdown",
      "source": [
        "The goal of this project is to develop a model aimed at predicting flight delays at take-off. We will try and test various model to arrive the best possible results.\n",
        "\n",
        "From a technical point of view, the main aspects of python covered throughout the notebook are:\n",
        "\n",
        "**visualization:** matplolib, seaborn, basemap\n",
        "\n",
        "**data manipulation:** pandas, numpy\n",
        "\n",
        "**modeling:** sklearn, scipy\n",
        "\n",
        "**class definition:** regression, figures"
      ],
      "metadata": {
        "id": "XmeOHwmItWJ6"
      }
    },
    {
      "cell_type": "markdown",
      "source": [
        "\n",
        "\n",
        "---\n",
        "\n",
        "\n",
        "**Overview of the Dataset**\n",
        "\n",
        "\n",
        "---\n",
        "\n"
      ],
      "metadata": {
        "id": "9MX7yHh96F1Y"
      }
    },
    {
      "cell_type": "code",
      "source": [
        "from google.colab import drive\n",
        "\n",
        "drive.mount('/content/drive')\n"
      ],
      "metadata": {
        "id": "M87QRbb9AXI0"
      },
      "execution_count": null,
      "outputs": []
    },
    {
      "cell_type": "code",
      "source": [
        "#import the flight dataset\n",
        "import pandas as pd #the pandas library is useful for data processing\n",
        "\n",
        "#Read CSV file from drive. Drive is used because size of the dataset is large\n",
        "#You need to mound the drive before running this code. Everytime you need to mount the drive before running the code.\n",
        "df = pd.read_csv('/content/drive/MyDrive/flight_dataset/flights.csv', low_memory=False)\n",
        "\n",
        "#df.shape give the dimension of dataset (rows x column)\n",
        "print('Dataframe dimensions:', df.shape)"
      ],
      "metadata": {
        "id": "SQHy3PTCt0qx",
        "colab": {
          "base_uri": "https://localhost:8080/"
        },
        "outputId": "0b7352fd-155e-436e-9ae2-43e4d90a0ef4"
      },
      "execution_count": 5,
      "outputs": [
        {
          "output_type": "stream",
          "name": "stdout",
          "text": [
            "Dataframe dimensions: (5819079, 31)\n"
          ]
        }
      ]
    },
    {
      "cell_type": "code",
      "source": [],
      "metadata": {
        "id": "6Ula-QPjJVf7"
      },
      "execution_count": null,
      "outputs": []
    }
  ]
}